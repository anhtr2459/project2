{
 "cells": [
  {
   "cell_type": "markdown",
   "id": "31057bc7-3fd0-4cf8-a24d-8f724a8b3864",
   "metadata": {},
   "source": [
    "<h1> My Jupyter Notebook on IBM Watson Studio </h1>"
   ]
  },
  {
   "cell_type": "markdown",
   "id": "bbdcb2e8-4a4f-43d4-bfdf-23e9f93f1263",
   "metadata": {},
   "source": [
    "**Tran Nhat Anh**\n",
    "<div>Artificial Intelligence</div>"
   ]
  },
  {
   "cell_type": "markdown",
   "id": "6e2ddfad-ff9f-4057-8523-56f19062197b",
   "metadata": {},
   "source": [
    "*I am interested in artificial intelligence, I want to process data before using data for Deep learning model*"
   ]
  },
  {
   "cell_type": "markdown",
   "id": "9d43c0c6-2a3d-4118-9092-78349cf36a1f",
   "metadata": {},
   "source": [
    "<h3>I make variable a equal to 1 and variable b equal to 2 , I use the print command to print the answer of a plus b</h3>"
   ]
  },
  {
   "cell_type": "code",
   "execution_count": 1,
   "id": "d434b8d1-7eeb-4a6b-b17e-344e52e50856",
   "metadata": {},
   "outputs": [
    {
     "name": "stdout",
     "output_type": "stream",
     "text": [
      "3\n"
     ]
    }
   ],
   "source": [
    "a = 1\n",
    "b = 2\n",
    "print(a+b)"
   ]
  }
 ],
 "metadata": {
  "kernelspec": {
   "display_name": "Python",
   "language": "python",
   "name": "conda-env-python-py"
  },
  "language_info": {
   "codemirror_mode": {
    "name": "ipython",
    "version": 3
   },
   "file_extension": ".py",
   "mimetype": "text/x-python",
   "name": "python",
   "nbconvert_exporter": "python",
   "pygments_lexer": "ipython3",
   "version": "3.7.12"
  }
 },
 "nbformat": 4,
 "nbformat_minor": 5
}
